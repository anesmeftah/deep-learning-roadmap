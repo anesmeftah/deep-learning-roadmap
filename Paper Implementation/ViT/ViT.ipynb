{
 "cells": [
  {
   "cell_type": "code",
   "execution_count": null,
   "id": "0",
   "metadata": {
    "colab": {
     "base_uri": "https://localhost:8080/"
    },
    "id": "119wFcp8cE7h",
    "outputId": "1fb52bc1-ebd2-476a-f6d7-40360a03dc8a"
   },
   "outputs": [],
   "source": [
    "!jupyter nbextension enable --py widgetsnbextension"
   ]
  },
  {
   "cell_type": "code",
   "execution_count": null,
   "id": "1",
   "metadata": {
    "id": "78794836"
   },
   "outputs": [],
   "source": [
    "import torch\n",
    "from torch import nn\n",
    "import matplotlib.pyplot as plt\n",
    "import torchvision\n",
    "from torchvision import transforms"
   ]
  },
  {
   "cell_type": "code",
   "execution_count": null,
   "id": "2",
   "metadata": {
    "id": "9a7512a7"
   },
   "outputs": [],
   "source": [
    "img_size = 224\n",
    "\n",
    "transform = transforms.Compose([\n",
    "    transforms.Resize((img_size, img_size)),\n",
    "    transforms.ToTensor()\n",
    "])"
   ]
  },
  {
   "cell_type": "code",
   "execution_count": null,
   "id": "3",
   "metadata": {
    "colab": {
     "base_uri": "https://localhost:8080/"
    },
    "id": "0IyEgIJn3Yit",
    "outputId": "07f1d6da-ccca-48d8-e142-7be7b590c292"
   },
   "outputs": [],
   "source": [
    "!git clone https://github.com/anesmeftah/deep-learning-roadmap.git"
   ]
  },
  {
   "cell_type": "code",
   "execution_count": null,
   "id": "4",
   "metadata": {
    "id": "88a04abc"
   },
   "outputs": [],
   "source": [
    "trainset = torchvision.datasets.ImageFolder(root='/content/deep-learning-roadmap/Paper Implementation/ViT/test/' , transform=transform)\n",
    "testset = torchvision.datasets.ImageFolder(root='/content/deep-learning-roadmap/Paper Implementation/ViT/test/' , transform=transform)\n"
   ]
  },
  {
   "cell_type": "code",
   "execution_count": null,
   "id": "5",
   "metadata": {
    "colab": {
     "base_uri": "https://localhost:8080/"
    },
    "id": "7072fc8b",
    "outputId": "48fc14b3-7544-46ce-8b2f-33f86e779ffe"
   },
   "outputs": [],
   "source": [
    "trainset.classes"
   ]
  },
  {
   "cell_type": "code",
   "execution_count": null,
   "id": "6",
   "metadata": {
    "colab": {
     "base_uri": "https://localhost:8080/"
    },
    "id": "5f99fded",
    "outputId": "1bd4ed29-bf58-41ba-d195-5bc923fbe049"
   },
   "outputs": [],
   "source": [
    "from torch.utils.data import DataLoader\n",
    "\n",
    "trainloader = DataLoader(trainset , 32 , shuffle= True)\n",
    "testloader = DataLoader(testset , 32 , shuffle= True)\n",
    "trainloader , testloader"
   ]
  },
  {
   "cell_type": "code",
   "execution_count": null,
   "id": "7",
   "metadata": {
    "colab": {
     "base_uri": "https://localhost:8080/"
    },
    "id": "528021cc",
    "outputId": "d60b4bc1-33d4-4db4-b1a3-cea386bb1475"
   },
   "outputs": [],
   "source": [
    "image_batch, label_batch = next(iter(trainloader))\n",
    "\n",
    "image, label = image_batch[0], label_batch[0]\n",
    "\n",
    "# View the batch shapes\n",
    "image.shape, label"
   ]
  },
  {
   "cell_type": "code",
   "execution_count": null,
   "id": "8",
   "metadata": {
    "colab": {
     "base_uri": "https://localhost:8080/",
     "height": 445
    },
    "id": "4ef6c085",
    "outputId": "5958ca5e-db07-4c4d-bd90-35838b2cb194"
   },
   "outputs": [],
   "source": [
    "# Plot image with matplotlib\n",
    "plt.imshow(image.permute(1, 2, 0)) # rearrange image dimensions to suit matplotlib [color_channels, height, width] -> [height, width, color_channels]\n",
    "plt.title(trainset.classes[label])\n",
    "plt.axis(False)"
   ]
  },
  {
   "cell_type": "code",
   "execution_count": null,
   "id": "9",
   "metadata": {
    "colab": {
     "base_uri": "https://localhost:8080/"
    },
    "id": "c3a2d5d2",
    "outputId": "5ca267fc-eb37-4f05-d711-1854870863bc"
   },
   "outputs": [],
   "source": [
    "# Create example values\n",
    "height = 224 # H (\"The training resolution is 224.\")\n",
    "width = 224 # W\n",
    "color_channels = 3 # C\n",
    "patch_size = 16 # P\n",
    "\n",
    "# Calculate N (number of patches)\n",
    "number_of_patches = int((height * width) / patch_size**2)\n",
    "print(f\"Number of patches (N) with image height (H={height}), width (W={width}) and patch size (P={patch_size}): {number_of_patches}\")"
   ]
  },
  {
   "cell_type": "code",
   "execution_count": null,
   "id": "10",
   "metadata": {
    "colab": {
     "base_uri": "https://localhost:8080/"
    },
    "id": "uJIJpNg93urV",
    "outputId": "ed32f863-ec68-4d69-cfa7-3c2ce4556da1"
   },
   "outputs": [],
   "source": [
    "# Input shape (this is the size of a single image)\n",
    "embedding_layer_input_shape = (height, width, color_channels)\n",
    "\n",
    "# Output shape\n",
    "embedding_layer_output_shape = (number_of_patches, patch_size**2 * color_channels)\n",
    "\n",
    "print(f\"Input shape (single 2D image): {embedding_layer_input_shape}\")\n",
    "print(f\"Output shape (single 2D image flattened into patches): {embedding_layer_output_shape}\")"
   ]
  },
  {
   "cell_type": "code",
   "execution_count": null,
   "id": "11",
   "metadata": {
    "id": "hZPs_OH339I3"
   },
   "outputs": [],
   "source": [
    "# View single image function\n",
    "def view_image(trainset , image , label):\n",
    "  plt.imshow(image.permute(1, 2, 0)) # adjust for matplotlib\n",
    "  plt.title(trainset.classes[label])\n",
    "  plt.axis(False)"
   ]
  },
  {
   "cell_type": "code",
   "execution_count": null,
   "id": "12",
   "metadata": {
    "colab": {
     "base_uri": "https://localhost:8080/",
     "height": 428
    },
    "id": "xXyUa3J0hgPK",
    "outputId": "4b2c94e8-e550-458d-8d61-eada02c9926e"
   },
   "outputs": [],
   "source": [
    "view_image(trainset , image , label)"
   ]
  },
  {
   "cell_type": "code",
   "execution_count": null,
   "id": "13",
   "metadata": {
    "colab": {
     "base_uri": "https://localhost:8080/",
     "height": 152
    },
    "id": "ENjelVH-4kjP",
    "outputId": "23a17a0e-0abe-4eea-c8e0-9e273c8a12cc"
   },
   "outputs": [],
   "source": [
    "# Change image shape to be compatible with matplotlib (color_channels, height, width) -> (height, width, color_channels)\n",
    "image_permuted = image.permute(1, 2, 0)\n",
    "\n",
    "# Index to plot the top row of patched pixels\n",
    "patch_size = 16\n",
    "plt.figure(figsize=(patch_size, patch_size))\n",
    "plt.imshow(image_permuted[:patch_size, :, :]);"
   ]
  },
  {
   "cell_type": "code",
   "execution_count": null,
   "id": "14",
   "metadata": {
    "colab": {
     "base_uri": "https://localhost:8080/",
     "height": 1000
    },
    "id": "Q2MEv-Q84-4n",
    "outputId": "1377c276-228a-4ed6-f856-d516b985c55c"
   },
   "outputs": [],
   "source": [
    "# Setup hyperparameters and make sure img_size and patch_size are compatible\n",
    "img_size = 224\n",
    "patch_size = 16\n",
    "num_patches = img_size/patch_size\n",
    "assert img_size % patch_size == 0, \"Image size must be divisible by patch size\"\n",
    "print(f\"Number of patches per row: {num_patches}\\\n",
    "        \\nNumber of patches per column: {num_patches}\\\n",
    "        \\nTotal patches: {num_patches*num_patches}\\\n",
    "        \\nPatch size: {patch_size} pixels x {patch_size} pixels\")\n",
    "\n",
    "# Create a series of subplots\n",
    "fig, axs = plt.subplots(nrows=img_size // patch_size, # need int not float\n",
    "                        ncols=img_size // patch_size,\n",
    "                        figsize=(num_patches, num_patches),\n",
    "                        sharex=True,\n",
    "                        sharey=True)\n",
    "\n",
    "# Loop through height and width of image\n",
    "for i, patch_height in enumerate(range(0, img_size, patch_size)): # iterate through height\n",
    "    for j, patch_width in enumerate(range(0, img_size, patch_size)): # iterate through width\n",
    "\n",
    "        # Plot the permuted image patch (image_permuted -> (Height, Width, Color Channels))\n",
    "        axs[i, j].imshow(image_permuted[patch_height:patch_height+patch_size, # iterate through height\n",
    "                                        patch_width:patch_width+patch_size, # iterate through width\n",
    "                                        :]) # get all color channels\n",
    "\n",
    "        # Set up label information, remove the ticks for clarity and set labels to outside\n",
    "        axs[i, j].set_ylabel(i+1,\n",
    "                             rotation=\"horizontal\",\n",
    "                             horizontalalignment=\"right\",\n",
    "                             verticalalignment=\"center\")\n",
    "        axs[i, j].set_xlabel(j+1)\n",
    "        axs[i, j].set_xticks([])\n",
    "        axs[i, j].set_yticks([])\n",
    "        axs[i, j].label_outer()\n",
    "\n",
    "# Set a super title\n",
    "fig.suptitle(f\"{trainset.classes[label]} -> Patchified\", fontsize=16)\n",
    "plt.show()"
   ]
  },
  {
   "cell_type": "code",
   "execution_count": null,
   "id": "15",
   "metadata": {
    "id": "asWN4iQe5XZF"
   },
   "outputs": [],
   "source": [
    "patch_size = 16\n",
    "#Create the Conv2d layer\n",
    "\n",
    "conv2d = nn.Conv2d(in_channels= 3,\n",
    "                   out_channels= 768,\n",
    "                   kernel_size= patch_size,\n",
    "                   stride= patch_size,\n",
    "                   padding= 0)\n"
   ]
  },
  {
   "cell_type": "code",
   "execution_count": null,
   "id": "16",
   "metadata": {
    "colab": {
     "base_uri": "https://localhost:8080/",
     "height": 445
    },
    "id": "AGonES5mTOxZ",
    "outputId": "526bc8fc-271e-44b4-b944-73017fc420e7"
   },
   "outputs": [],
   "source": [
    "# View single image\n",
    "\n",
    "plt.imshow(image.permute(1, 2, 0))\n",
    "plt.title(trainset.classes[label])\n",
    "plt.axis(False)"
   ]
  },
  {
   "cell_type": "code",
   "execution_count": null,
   "id": "17",
   "metadata": {
    "colab": {
     "base_uri": "https://localhost:8080/"
    },
    "id": "Vk80ZrsGX-Kg",
    "outputId": "578fcad1-536b-47b6-fc25-0574b702aff1"
   },
   "outputs": [],
   "source": [
    "print(image.shape)\n",
    "print(image.unsqueeze(0).shape)"
   ]
  },
  {
   "cell_type": "code",
   "execution_count": null,
   "id": "18",
   "metadata": {
    "colab": {
     "base_uri": "https://localhost:8080/"
    },
    "id": "CMGbaQ2JXhYP",
    "outputId": "66d839cd-bc60-425d-cbac-7c92a3c4a4d0"
   },
   "outputs": [],
   "source": [
    "img_out_conv = conv2d(image.unsqueeze(0))\n",
    "print(img_out_conv.shape)"
   ]
  },
  {
   "cell_type": "markdown",
   "id": "19",
   "metadata": {
    "id": "AjDWcm98Yk8S"
   },
   "source": [
    "Visualize five random feature maps to see what they look like"
   ]
  },
  {
   "cell_type": "code",
   "execution_count": null,
   "id": "20",
   "metadata": {
    "colab": {
     "base_uri": "https://localhost:8080/",
     "height": 214
    },
    "id": "THBEhZpuYNAu",
    "outputId": "cf766d33-c6c2-4168-d7cf-168a4015933e"
   },
   "outputs": [],
   "source": [
    "import random\n",
    "random_indexes = random.sample(range(0,768) , k=5) #pick 5 numbers\n",
    "print(f\"Showing random convolutional feature maps from indexes: {random_indexes}\")\n",
    "\n",
    "fig , axs = plt.subplots(nrows = 1 , ncols = 5 , figsize=(12,12))\n",
    "for i, idx in enumerate(random_indexes):\n",
    "  img_conv_feature_map = img_out_conv[:, idx, : , :]\n",
    "  axs[i].imshow(img_conv_feature_map.squeeze().detach().numpy())\n",
    "  axs[i].set(xticklabels=[], yticklabels=[], xticks=[], yticks=[]);\n"
   ]
  },
  {
   "cell_type": "markdown",
   "id": "21",
   "metadata": {
    "id": "cagmyYBvcHpR"
   },
   "source": [
    "Check out the numerical form"
   ]
  },
  {
   "cell_type": "code",
   "execution_count": null,
   "id": "22",
   "metadata": {
    "colab": {
     "base_uri": "https://localhost:8080/"
    },
    "id": "V8Zeu16Ubyrs",
    "outputId": "79103321-f5cb-4e75-a962-a7020f730804"
   },
   "outputs": [],
   "source": [
    "#Get a single feature map in tensor form\n",
    "\n",
    "single_feature_map = img_out_conv[:, 0, :, :]\n",
    "single_feature_map , single_feature_map.requires_grad"
   ]
  },
  {
   "cell_type": "markdown",
   "id": "23",
   "metadata": {
    "id": "2p2QUndTdjkt"
   },
   "source": [
    "# Flattening the patch embedding"
   ]
  },
  {
   "cell_type": "markdown",
   "id": "24",
   "metadata": {
    "id": "nBtoMQOHgP9d"
   },
   "source": [
    "Reading back the ViT paper it says we don't want to flatten the whole tensor, we only want to flatten the spatial dimension of the feature map which is in our case the `feature_map_height` and the `feature_map_width`"
   ]
  },
  {
   "cell_type": "code",
   "execution_count": null,
   "id": "25",
   "metadata": {
    "id": "rRM2Bk7Nch_6"
   },
   "outputs": [],
   "source": [
    "#Create flatten layer\n",
    "flatten = nn.Flatten(start_dim = 2, #height\n",
    "                     end_dim = 3) #width"
   ]
  },
  {
   "cell_type": "code",
   "execution_count": null,
   "id": "26",
   "metadata": {
    "colab": {
     "base_uri": "https://localhost:8080/",
     "height": 480
    },
    "id": "JIJuZ7b0g_z4",
    "outputId": "04fb50c5-0456-4076-f705-60da8a1a92c5"
   },
   "outputs": [],
   "source": [
    "# 1. View single image\n",
    "view_image(trainset , image , label)\n",
    "print(\"Original image shape : \" , image.shape)\n",
    "\n",
    "# 2. Turn image into feature maps\n",
    "img_out_conv = conv2d(image.unsqueeze(0))\n",
    "print(\"image feature map shape\" , img_out_conv.shape)\n",
    "\n",
    "# 3. Flatten the feature maps\n",
    "img_out_conv_flattened = flatten(img_out_conv)\n",
    "print(\"Flattened image feature map shape\" , img_out_conv_flattened.shape)"
   ]
  },
  {
   "cell_type": "code",
   "execution_count": null,
   "id": "27",
   "metadata": {
    "colab": {
     "base_uri": "https://localhost:8080/"
    },
    "id": "mBKDiMEfh-zE",
    "outputId": "321d8e56-86e7-44fe-af75-35f48b1327a3"
   },
   "outputs": [],
   "source": [
    "# Get flattened image patch embeddings in right shape\n",
    "img_out_conv_flattened_reshaped = img_out_conv_flattened.permute(0, 2, 1)\n",
    "print(f\"Patch embedding sequence shape: {img_out_conv_flattened_reshaped.shape} -> [batch_size, num_patches, embedding_size]\")"
   ]
  },
  {
   "cell_type": "markdown",
   "id": "28",
   "metadata": {
    "id": "3oXkgX8UXuhe"
   },
   "source": [
    "We visualize one of the flattened feature map"
   ]
  },
  {
   "cell_type": "code",
   "execution_count": null,
   "id": "29",
   "metadata": {
    "colab": {
     "base_uri": "https://localhost:8080/",
     "height": 82
    },
    "id": "yVucH09kjPfT",
    "outputId": "f1703584-8745-4d07-d681-c85e029e6073"
   },
   "outputs": [],
   "source": [
    "# Get a single flattened feature map\n",
    "single_flattened_feature_map = img_out_conv_flattened_reshaped[:, :, 0]\n",
    "\n",
    "# Plot the flattened feature map\n",
    "plt.figure(figsize=(22,22))\n",
    "plt.imshow(single_flattened_feature_map.detach().numpy())\n",
    "plt.title(f\"Flattened feature map shape {single_flattened_feature_map.shape}\")\n",
    "plt.axis(False)"
   ]
  },
  {
   "cell_type": "markdown",
   "id": "30",
   "metadata": {
    "id": "q5qG1ngDatV4"
   },
   "source": [
    "\n",
    "\n",
    "> The original Transformer architecture was designed to work with text. The Vision Transformer architecture (ViT) had the goal of using the original Transformer for images. This is why we're taking a 2D image and formatting it so it appears as a 1D sequence of text.\n",
    "\n"
   ]
  },
  {
   "cell_type": "markdown",
   "id": "31",
   "metadata": {
    "id": "pbNSwJ2kbCAc"
   },
   "source": [
    "# Turning the ViT patch embedding layer into a PyTorch module"
   ]
  },
  {
   "cell_type": "code",
   "execution_count": null,
   "id": "32",
   "metadata": {
    "id": "ZZXe1fJ1Zika"
   },
   "outputs": [],
   "source": [
    "class PatchEmbedding(nn.Module): # Turns a 2D input image into a 1D sequence learnable embedding vector.\n",
    "\n",
    "  def __init__(self,\n",
    "               in_channels = 3,\n",
    "               patch_size = 16,\n",
    "               embedding_dim = 768):\n",
    "    super().__init__()\n",
    "\n",
    "    self.patcher = nn.Conv2d(in_channels= in_channels,\n",
    "                             out_channels = embedding_dim,\n",
    "                             kernel_size = patch_size,\n",
    "                             stride = patch_size,\n",
    "                             padding = 0)\n",
    "\n",
    "    self.flatten = nn.Flatten(start_dim= 2 , end_dim= 3)\n",
    "\n",
    "  # The forward method\n",
    "  def forward(self , x):\n",
    "    image_resolution = x.shape[-1]\n",
    "    assert image_resolution % patch_size == 0, f\"Input image size must be divisible by patch size, image shape: {image_resolution}, patch size: {patch_size}\"\n",
    "\n",
    "    x_patched = self.patcher(x)\n",
    "    x_flattened = self.flatten(x_patched)\n",
    "\n",
    "    return x_flattened.permute(0, 2, 1)\n",
    "\n"
   ]
  },
  {
   "cell_type": "code",
   "execution_count": null,
   "id": "33",
   "metadata": {
    "colab": {
     "base_uri": "https://localhost:8080/"
    },
    "id": "m8WITiP9efAt",
    "outputId": "aea87714-58a2-45c4-ff3b-d3e56669337d"
   },
   "outputs": [],
   "source": [
    "# Create an instance of patch embedding layer\n",
    "patchify = PatchEmbedding(in_channels=3,\n",
    "                          patch_size=16,\n",
    "                          embedding_dim=768)\n",
    "\n",
    "# Pass a single image through\n",
    "print(f\"Input image shape: {image.unsqueeze(0).shape}\")\n",
    "patch_embedded_image = patchify(image.unsqueeze(0)) # add an extra batch dimension on the 0th index, otherwise will error\n",
    "print(f\"Output patch embedding shape: {patch_embedded_image.shape}\")\n"
   ]
  },
  {
   "cell_type": "markdown",
   "id": "34",
   "metadata": {
    "id": "54r0SqCxfRpo"
   },
   "source": [
    "# Create the class token embedding"
   ]
  },
  {
   "cell_type": "code",
   "execution_count": null,
   "id": "35",
   "metadata": {
    "colab": {
     "base_uri": "https://localhost:8080/"
    },
    "id": "uawYT_3ueswK",
    "outputId": "06612a66-fdec-476e-8ebf-a6d27dd81338"
   },
   "outputs": [],
   "source": [
    "# View the patch embedding and patch embedding shape\n",
    "print(patch_embedded_image)\n",
    "print(f\"Patch embedding shape: {patch_embedded_image.shape} -> [batch_size, number_of_patches, embedding_dimension]\")"
   ]
  },
  {
   "cell_type": "code",
   "execution_count": null,
   "id": "36",
   "metadata": {
    "colab": {
     "base_uri": "https://localhost:8080/"
    },
    "id": "fDx3Amn7hkg9",
    "outputId": "3ee663e5-f0ae-493c-f646-ebd27496a74c"
   },
   "outputs": [],
   "source": [
    "# Get the batch size and embedding dimension\n",
    "batch_size = patch_embedded_image.shape[0]\n",
    "embedding_dimension = patch_embedded_image.shape[-1]\n",
    "\n",
    "class_token = nn.Parameter(torch.ones(batch_size , 1 , embedding_dimension),\n",
    "                           requires_grad= True)\n",
    "\n",
    "print(class_token[:, :, :10])\n",
    "print(f\"Class token shape: {class_token.shape} -> [batch_size, number_of_tokens, embedding_dimension]\")\n",
    "\n"
   ]
  },
  {
   "cell_type": "code",
   "execution_count": null,
   "id": "37",
   "metadata": {
    "id": "UZ_82qPRjf-R"
   },
   "outputs": [],
   "source": [
    "patch_embedded_image_with_class_embedding = torch.cat((class_token , patch_embedded_image) ,\n",
    "                                                     dim = 1)"
   ]
  },
  {
   "cell_type": "markdown",
   "id": "38",
   "metadata": {
    "id": "PPfuSYdvUuu9"
   },
   "source": [
    "# Create the position embedding"
   ]
  },
  {
   "cell_type": "code",
   "execution_count": null,
   "id": "39",
   "metadata": {
    "colab": {
     "base_uri": "https://localhost:8080/"
    },
    "id": "SWm3hURhq5Nx",
    "outputId": "c2826b6e-ccb3-4d00-f3c1-71193ad04a5e"
   },
   "outputs": [],
   "source": [
    "# View the sequence of patch embedding with the prepended class embedding\n",
    "patch_embedded_image_with_class_embedding , patch_embedded_image_with_class_embedding.shape"
   ]
  },
  {
   "cell_type": "code",
   "execution_count": null,
   "id": "40",
   "metadata": {
    "id": "tfUbeyTyXuU9"
   },
   "outputs": [],
   "source": [
    "# Calculate N : number of patches\n",
    "number_patches = int((height * width) / patch_size**2)\n",
    "\n",
    "# Get embedding dimension\n",
    "embedding_dimension = patch_embedded_image_with_class_embedding.shape[2]\n",
    "\n",
    "# Create the learnable 1D position embedding\n",
    "position_embedding = nn.Parameter(torch.ones(1 , number_patches + 1 , embedding_dimension) , requires_grad= True)"
   ]
  },
  {
   "cell_type": "markdown",
   "id": "41",
   "metadata": {
    "id": "JVM4A4bVapEc"
   },
   "source": [
    "Show the first 10 sequences and 10 position embedding values and check the shape of the position embedding"
   ]
  },
  {
   "cell_type": "code",
   "execution_count": null,
   "id": "42",
   "metadata": {
    "colab": {
     "base_uri": "https://localhost:8080/"
    },
    "id": "yr7wQAqvajtm",
    "outputId": "f253f385-fd58-4dbe-fd3d-d79dcf2fc0ce"
   },
   "outputs": [],
   "source": [
    "print(position_embedding[:, :10, :10])\n",
    "print(f\"Position embedding shape: {position_embedding.shape} -> [batch_size, number_of_patches, embedding_dimension]\")"
   ]
  },
  {
   "cell_type": "code",
   "execution_count": null,
   "id": "43",
   "metadata": {
    "colab": {
     "base_uri": "https://localhost:8080/"
    },
    "id": "yxrMOW0FbjDm",
    "outputId": "37c32583-10f4-4315-87be-b298fb3fe49c"
   },
   "outputs": [],
   "source": [
    "# Add the position embedding to the patch and class token embedding\n",
    "patch_and_position_embedding = patch_embedded_image_with_class_embedding + position_embedding\n",
    "print(patch_and_position_embedding)\n",
    "print(f\"Patch embeddings, class token prepended and positional embeddings added shape: {patch_and_position_embedding.shape} -> [batch_size, number_of_patches, embedding_dimension]\")"
   ]
  },
  {
   "cell_type": "code",
   "execution_count": null,
   "id": "44",
   "metadata": {
    "colab": {
     "base_uri": "https://localhost:8080/"
    },
    "id": "z8hDqvMxb58l",
    "outputId": "a522164e-c1fd-4fc0-f849-c608d4de8d72"
   },
   "outputs": [],
   "source": [
    "# 1. Set patch size\n",
    "patch_size = 16\n",
    "\n",
    "# 2. Print shape of original image tensor and get the image dimensions\n",
    "print(f\"Image tensor shape: {image.shape}\")\n",
    "height, width = image.shape[1], image.shape[2]\n",
    "\n",
    "# 3. Get image tensor and add batch dimension\n",
    "x = image.unsqueeze(0)\n",
    "print(f\"Input image with batch dimension shape: {x.shape}\")\n",
    "\n",
    "# 4. Create patch embedding layer\n",
    "patch_embedding_layer = PatchEmbedding(in_channels=3,\n",
    "                                       patch_size=patch_size,\n",
    "                                       embedding_dim=768)\n",
    "\n",
    "# 5. Pass image through patch embedding layer\n",
    "patch_embedding = patch_embedding_layer(x)\n",
    "print(f\"Patching embedding shape: {patch_embedding.shape}\")\n",
    "\n",
    "# 6. Create class token embedding\n",
    "batch_size = patch_embedding.shape[0]\n",
    "embedding_dimension = patch_embedding.shape[-1]\n",
    "class_token = nn.Parameter(torch.ones(batch_size, 1, embedding_dimension),\n",
    "                           requires_grad=True)\n",
    "print(f\"Class token embedding shape: {class_token.shape}\")\n",
    "\n",
    "# 7. Prepend class token embedding to patch embedding\n",
    "patch_embedding_class_token = torch.cat((class_token, patch_embedding), dim=1)\n",
    "print(f\"Patch embedding with class token shape: {patch_embedding_class_token.shape}\")\n",
    "\n",
    "# 8. Create position embedding\n",
    "number_of_patches = int((height * width) / patch_size**2)\n",
    "position_embedding = nn.Parameter(torch.ones(1, number_of_patches+1, embedding_dimension),\n",
    "                                  requires_grad=True)\n",
    "\n",
    "# 9. Add position embedding to patch embedding with class token\n",
    "patch_and_position_embedding = patch_embedding_class_token + position_embedding\n",
    "print(f\"Patch and position embedding shape: {patch_and_position_embedding.shape}\")"
   ]
  },
  {
   "cell_type": "markdown",
   "id": "45",
   "metadata": {
    "id": "UhpflFU4mMCA"
   },
   "source": [
    "# Multi-Head Attention (MSA)"
   ]
  },
  {
   "cell_type": "code",
   "execution_count": null,
   "id": "46",
   "metadata": {
    "id": "cxYDPpMZlXKW"
   },
   "outputs": [],
   "source": [
    "class MultiheadSelfAttentionBlock(nn.Module):\n",
    "\n",
    "  def __init__(self,\n",
    "               embedding_dim = 768,\n",
    "               num_heads = 12,\n",
    "               attn_dropout = 0):\n",
    "    super().__init__()\n",
    "\n",
    "    self.layer_norm = nn.LayerNorm(normalized_shape = embedding_dim)\n",
    "\n",
    "    self.multihead_attn = nn.MultiheadAttention(embed_dim= embedding_dim ,\n",
    "                                                num_heads= num_heads,\n",
    "                                                dropout=attn_dropout,\n",
    "                                                batch_first= True)\n",
    "  def forward(self , x):\n",
    "    x = self.layer_norm(x)\n",
    "    attn_output , _ = self.multihead_attn(query = x,\n",
    "                                            key = x,\n",
    "                                            value = x,\n",
    "                                            need_weights = False)\n",
    "    return attn_output\n",
    "\n"
   ]
  },
  {
   "cell_type": "markdown",
   "id": "47",
   "metadata": {
    "id": "I0fCinQFs86s"
   },
   "source": [
    "We create an instance of our `MultiheadSelfAttentionBlock` and passing through the `patch_and_position_embedding` variable we created"
   ]
  },
  {
   "cell_type": "code",
   "execution_count": null,
   "id": "48",
   "metadata": {
    "colab": {
     "base_uri": "https://localhost:8080/"
    },
    "id": "Bnoq7z8Sscu4",
    "outputId": "811b31d4-c729-4774-caa6-17c3bf5fd416"
   },
   "outputs": [],
   "source": [
    "# Create an instance of MSABlock\n",
    "multihead_self_attention_block = MultiheadSelfAttentionBlock(embedding_dim=768, # from Table 1\n",
    "                                                             num_heads=12) # from Table 1\n",
    "\n",
    "# Pass patch and position image embedding through MSABlock\n",
    "patched_image_through_msa_block = multihead_self_attention_block(patch_and_position_embedding)\n",
    "print(f\"Input shape of MSA block: {patch_and_position_embedding.shape}\")\n",
    "print(f\"Output shape MSA block: {patched_image_through_msa_block.shape}\")"
   ]
  },
  {
   "cell_type": "markdown",
   "id": "49",
   "metadata": {
    "id": "4HFAEmRXuWJe"
   },
   "source": [
    "# Multilayer Perceptron (MLP)"
   ]
  },
  {
   "cell_type": "code",
   "execution_count": null,
   "id": "50",
   "metadata": {
    "id": "s_8vINgCsyOF"
   },
   "outputs": [],
   "source": [
    "class MLPBlock(nn.Module):\n",
    "  def __init__(self ,\n",
    "               embedding_dim = 768,\n",
    "               mlp_size = 3072,\n",
    "               dropout = 0.1):\n",
    "    super().__init__()\n",
    "    self.layer_norm = nn.LayerNorm(normalized_shape= embedding_dim)\n",
    "    self.mlp = nn.Sequential(\n",
    "        nn.Linear(in_features= embedding_dim,\n",
    "                  out_features= mlp_size),\n",
    "        nn.GELU(),\n",
    "        nn.Dropout(p = dropout),\n",
    "        nn.Linear(in_features= mlp_size,\n",
    "                  out_features= embedding_dim),\n",
    "        nn.Dropout(p = dropout)\n",
    "    )\n",
    "\n",
    "  def forward(self , x):\n",
    "    x = self.layer_norm(x)\n",
    "    x = self.mlp(x)\n",
    "    return x"
   ]
  },
  {
   "cell_type": "markdown",
   "id": "51",
   "metadata": {
    "id": "rXCNxWHTzXje"
   },
   "source": [
    "We create an instance of our `MLPBlock` and passing through the `patched_image_through_msa_block`"
   ]
  },
  {
   "cell_type": "code",
   "execution_count": null,
   "id": "52",
   "metadata": {
    "colab": {
     "base_uri": "https://localhost:8080/"
    },
    "id": "oUIHRq4pzR6S",
    "outputId": "74b0a955-4d39-4974-ecad-6d626ff28c37"
   },
   "outputs": [],
   "source": [
    "# Create an instance of MLPBlock\n",
    "mlp_block = MLPBlock(embedding_dim=768,\n",
    "                     mlp_size=3072,\n",
    "                     dropout=0.1)\n",
    "\n",
    "# Pass output of MSABlock through MLPBlock\n",
    "patched_image_through_mlp_block = mlp_block(patched_image_through_msa_block)\n",
    "print(f\"Input shape of MLP block: {patched_image_through_msa_block.shape}\")\n",
    "print(f\"Output shape MLP block: {patched_image_through_mlp_block.shape}\")"
   ]
  },
  {
   "cell_type": "markdown",
   "id": "53",
   "metadata": {
    "id": "rpiN6npPzthy"
   },
   "source": [
    "# Create the Transformer Encoder"
   ]
  },
  {
   "cell_type": "code",
   "execution_count": null,
   "id": "54",
   "metadata": {
    "id": "lK5ikk1Szl_h"
   },
   "outputs": [],
   "source": [
    "class TransformerEncoderBlock(nn.Module):\n",
    "  def __init__(self,\n",
    "               embedding_dim=768,\n",
    "               num_heads=12,\n",
    "               mlp_size=3072,\n",
    "               mlp_dropout=0.1,\n",
    "               attn_dropout=0):\n",
    "    super().__init__()\n",
    "    self.msa_block = MultiheadSelfAttentionBlock(embedding_dim= embedding_dim,\n",
    "                                                 num_heads= num_heads,\n",
    "                                                 attn_dropout= attn_dropout)\n",
    "\n",
    "    self.mlp_block = MLPBlock(embedding_dim= embedding_dim,\n",
    "                              mlp_size= mlp_size,\n",
    "                              dropout = mlp_dropout)\n",
    "\n",
    "  def forward(self, x):\n",
    "    x = self.msa_block(x) + x\n",
    "    x = self.mlp_block(x) + x\n",
    "    return x\n"
   ]
  },
  {
   "cell_type": "markdown",
   "id": "55",
   "metadata": {
    "id": "QLaOrmuq7D-E"
   },
   "source": [
    "# Create ViT"
   ]
  },
  {
   "cell_type": "code",
   "execution_count": null,
   "id": "56",
   "metadata": {
    "id": "qX8frNKC30xi"
   },
   "outputs": [],
   "source": [
    "class ViT(nn.Module):\n",
    "  def __init__(self,\n",
    "               img_size = 224,\n",
    "               in_channels = 3,\n",
    "               patch_size = 16,\n",
    "               num_transformer_layers = 12, # layers from Table 1 for ViT-Base\n",
    "               embedding_dim = 768,\n",
    "               mlp_size = 3072,\n",
    "               num_heads = 12,\n",
    "               attn_dropout = 0,\n",
    "               mlp_dropout = 0.1,\n",
    "               embedding_dropout = 0.1,\n",
    "               num_classes = 1000 # default for ImageNet\n",
    "               ):\n",
    "    super().__init__()\n",
    "    assert img_size % patch_size == 0, f\"Image size must be divisible by patch size, image size: {img_size}, patch size: {patch_size}.\"\n",
    "\n",
    "    self.num_patches = (img_size ** 2) // patch_size ** 2\n",
    "    self.class_embedding = nn.Parameter(data = torch.randn(1, 1, embedding_dim),\n",
    "                                        requires_grad = True)\n",
    "\n",
    "    self.position_embedding = nn.Parameter(data = torch.randn(1, self.num_patches + 1, embedding_dim),\n",
    "                                           requires_grad= True)\n",
    "\n",
    "    self.embedding_dropout = nn.Dropout(p = embedding_dropout)\n",
    "\n",
    "    self.patch_embedding = PatchEmbedding(in_channels = in_channels,\n",
    "                                          patch_size = patch_size,\n",
    "                                          embedding_dim= embedding_dim)\n",
    "\n",
    "    self.transformer_encoder = nn.Sequential(*[TransformerEncoderBlock(embedding_dim= embedding_dim,\n",
    "                                                                       num_heads = num_heads,\n",
    "                                                                       mlp_size = mlp_size,\n",
    "                                                                       mlp_dropout= mlp_dropout)for _ in range(num_transformer_layers)])\n",
    "\n",
    "    self.classifier = nn.Sequential(\n",
    "        nn.LayerNorm(normalized_shape= embedding_dim),\n",
    "        nn.Linear(in_features= embedding_dim,\n",
    "                  out_features= num_classes)\n",
    "    )\n",
    "\n",
    "  def forward(self, x):\n",
    "\n",
    "    batch_size = x.shape[0]\n",
    "\n",
    "    class_token = self.class_embedding.expand(batch_size, -1 ,-1)\n",
    "\n",
    "    x = self.patch_embedding(x)\n",
    "    x = torch.cat((class_token, x) , dim = 1)\n",
    "    x = self.position_embedding + x\n",
    "    x = self.embedding_dropout(x)\n",
    "    x = self.transformer_encoder(x)\n",
    "    x = self.classifier(x[: , 0])\n",
    "\n",
    "    return x"
   ]
  },
  {
   "cell_type": "code",
   "execution_count": null,
   "id": "57",
   "metadata": {
    "colab": {
     "base_uri": "https://localhost:8080/"
    },
    "id": "Ze0vvyE_Ighi",
    "outputId": "e541c7ab-a4cc-4ad7-c762-9eb55fdbf8e7"
   },
   "outputs": [],
   "source": [
    "# Create a random tensor with same shape as a single image\n",
    "random_image_tensor = torch.randn(1, 3, 224, 224) # (batch_size, color_channels, height, width)\n",
    "\n",
    "# Create an instance of ViT with the number of classes we're working with (pizza, steak, sushi)\n",
    "vit = ViT(num_classes=len(trainset.classes[label]))\n",
    "\n",
    "# Pass the random image tensor to our ViT instance\n",
    "vit(random_image_tensor)"
   ]
  },
  {
   "cell_type": "markdown",
   "id": "58",
   "metadata": {
    "id": "jE5uePF3Lj0u"
   },
   "source": [
    "# Training"
   ]
  },
  {
   "cell_type": "markdown",
   "id": "59",
   "metadata": {
    "id": "8VwjkehUMTo7"
   },
   "source": [
    "Optimizer : We can see they choose to use \"Adam\" optimizer\n",
    "Loss function : we are going to use CrossEntropyLoss because we are working with multi-class classification"
   ]
  },
  {
   "cell_type": "code",
   "execution_count": null,
   "id": "60",
   "metadata": {
    "id": "Md3etmXYLrD7"
   },
   "outputs": [],
   "source": [
    "optimizer = torch.optim.Adam(params = vit.parameters(),\n",
    "                             lr = 0.003,\n",
    "                             betas= (0.9 , 0.999),\n",
    "                             weight_decay = 0.3)\n",
    "\n",
    "loss_fn = torch.nn.CrossEntropyLoss()"
   ]
  },
  {
   "cell_type": "code",
   "execution_count": null,
   "id": "61",
   "metadata": {
    "id": "Xvu4PWLPNYYH"
   },
   "outputs": [],
   "source": [
    "# train a model\n",
    "from tqdm.auto import tqdm\n",
    "\n",
    "def train(model,\n",
    "          train_dataloader,\n",
    "          test_dataloader,\n",
    "          optimizer,\n",
    "          loss_fn,\n",
    "          epochs,\n",
    "          device = \"cuda\"):\n",
    "\n",
    "    results = {\n",
    "        \"train_loss\": [],\n",
    "        \"train_acc\": [],\n",
    "        \"test_loss\": [],\n",
    "        \"test_acc\": []\n",
    "    }\n",
    "\n",
    "    model.to(device)\n",
    "\n",
    "    for epoch in range(epochs):\n",
    "        model.train()\n",
    "        train_loss, train_correct = 0, 0\n",
    "\n",
    "        for X, y in tqdm(train_dataloader, desc=f\"Epoch {epoch+1}/{epochs} [Training]\"):\n",
    "            X, y = X.to(device), y.to(device)\n",
    "\n",
    "            y_pred = model(X)\n",
    "            loss = loss_fn(y_pred, y)\n",
    "            train_loss += loss.item()\n",
    "\n",
    "            optimizer.zero_grad()\n",
    "            loss.backward()\n",
    "            optimizer.step()\n",
    "\n",
    "\n",
    "            train_correct += (y_pred.argmax(dim=1) == y).sum().item()\n",
    "\n",
    "        train_loss /= len(train_dataloader)\n",
    "        train_acc = train_correct / len(train_dataloader.dataset)\n",
    "\n",
    "        model.eval()\n",
    "        test_loss, test_correct = 0, 0\n",
    "\n",
    "        with torch.inference_mode():\n",
    "            for X, y in tqdm(test_dataloader, desc=f\"Epoch {epoch+1}/{epochs} [Testing]\"):\n",
    "                X, y = X.to(device), y.to(device)\n",
    "                y_pred = model(X)\n",
    "\n",
    "                test_loss += loss_fn(y_pred, y).item()\n",
    "                test_correct += (y_pred.argmax(dim=1) == y).sum().item()\n",
    "\n",
    "        test_loss /= len(test_dataloader)\n",
    "        test_acc = test_correct / len(test_dataloader.dataset)\n",
    "\n",
    "        results[\"train_loss\"].append(train_loss)\n",
    "        results[\"train_acc\"].append(train_acc)\n",
    "        results[\"test_loss\"].append(test_loss)\n",
    "        results[\"test_acc\"].append(test_acc)\n",
    "\n",
    "        print(f\"Epoch {epoch+1}/{epochs} | \"\n",
    "              f\"Train Loss: {train_loss:.4f}, Train Acc: {train_acc:.4f} | \"\n",
    "              f\"Test Loss: {test_loss:.4f}, Test Acc: {test_acc:.4f}\")\n",
    "\n",
    "    return results\n"
   ]
  },
  {
   "cell_type": "code",
   "execution_count": null,
   "id": "62",
   "metadata": {
    "colab": {
     "base_uri": "https://localhost:8080/",
     "height": 831,
     "referenced_widgets": [
      "ebf35e7f37a24fe4903ed22dd369148b",
      "55bcbdc483c24616a7d06af6c5ebfaa1",
      "7436a60622de4891b58a03d66d3730bb",
      "26336701444e4d1bb746a68e78759e35",
      "6348ad39abef4821b9c50d199b7cc0bd",
      "de473b219c064e1bbb64d60568b89113",
      "07926f70145f4786bb152242184275bc",
      "09126bd72619412a8600f29160bf408c",
      "eb48296bb3c945b99f7b51113417ff42",
      "a0f1e4681d0843f882b5d69bbe505377",
      "10f1b443bf5b495e98bc146055945a8f",
      "f8429cebbb0b4e3f889aed9cf51149a8",
      "c104c1597363421bba4dff60a041867d",
      "54c95519f33941218ae74bd64fa3f97f",
      "5db23a32969540e694fdbba5c4a31ba0",
      "aa19ad4b016747a6aad5e6a11085942b",
      "853b224938f94f1a94ef617030f814f3",
      "39e0b3095209425392267155bf1e766a",
      "ab792eb589b74eeaa6eba891a862d7d6",
      "732afc1a60834024947ceb347315f83c",
      "26fc40ad166a4d07a720e5ce0776c7dd",
      "fd9cc79cc5274ff0915b016dfa6eb865",
      "3a711c30be3544979346d68b3a374652",
      "9c079dab2375432f8ef075b5db582e74",
      "10a687ac13104c8d92490906eed5f062",
      "a7ad3a4d25ac40fc8874e33846ec3d9b",
      "3c1970f8a3924b428449a9afbb6866c5",
      "2cb3c45adcc44511bcbf4e66defba616",
      "010cd4601bde4963ae10bf399da18558",
      "a00c72faab004c17aa9c2c3c9946a8f7",
      "ccef0f3b1db14202aca0895023152e89",
      "83053468f9ec47fb8b4ddb004eeaed3e",
      "6d9b5b5133be4dbc8ead4f295b2bab9b",
      "3b904964a171497bad7db7d927b42e9a",
      "36d54e1590cd44138630393a694cb4c9",
      "1a9a86028f5f4cc18c19dffabd1e1893",
      "5cac9c40e5404d0bb8f23f63b18354ee",
      "64ebe6e5a6674f51974d71e8bcc564ad",
      "656bf8b7a2f244f68d828bb316aab4cd",
      "308712b4401d49e9afdea562f241c6f8",
      "721d99f5d2bc4a2b80ed4a5d5868f173",
      "fbd9f3bd33704170a3a61852a02d9906",
      "7885e8f9278b478a9c63cb462019518a",
      "d32c3fff0fa14cfc9382919b24c338b7",
      "1191705287cd489e9b9518e57316ec1c",
      "2732dcaee6754a06825fd4c0a485d0f4",
      "d730b21ed8a24167b5e817ecbe583ad1",
      "57e243bd03cd49b49ca0d35bb6b14f6e",
      "1cbc1abced6b4f0a8c373835c6f4f18f",
      "85be22ff5dfb43f0a06bb3a29027b867",
      "ebf5d50bcc294c53b87ad11f5ac0e928",
      "37e8bf84d2234ba880cdfaa0de548f82",
      "8e3dcbf77b0847d4aea50045cb59b098",
      "625d0f7b319e438896f90181918a5a6b",
      "3d241c7c622141f9aa3943c34f7335b7",
      "0e826469d9f84138a9e19f0098fe3fa9",
      "dcb96ff55a434241916bd4e2d9a91ed0",
      "5aba1a3fad8b45009166a7f69dfdf38c",
      "af13812c376c4bc786d6f317f056f22b",
      "2ffd23d6847e4eeea7a1b542b3aaf75a",
      "a0e833138d194e0eae3b9b5e24eef237",
      "8952fe0368e6481c8e1db87508496f8a",
      "d1df76dbe8a2442288e71be110e1ab1c",
      "feb409c7ba6740bb8f95038d7f65d79a",
      "8fff6a61aa7a46ae9eae99a868ea8aa2",
      "ff3d368bab204a5c8781210fd12e2486",
      "158822b99225411ca835bca2b2bc34ce",
      "8ce5ad993ed7453a8e04893b58fdba1b",
      "eaaac74e375a475fb6b92c3f50c08a4c",
      "801b289707a04d60a1e79f9902c2213e",
      "d7e1e2f877614d18ab22818db508a38a",
      "28ba6309c6874df9989169edfbfb5241",
      "8f73c3380b1c499db0f5a2313e1661bb",
      "23cca71237264f9ab3000c225674af05",
      "d3da409b64e14ae08c748aa0ab6d538b",
      "2a10c8ffebb3404c9f9b473b5ca34ad9",
      "609191158c7a431ba4ecca70ca7219bc",
      "7a0330ebb1e440f0aced0499baa1608c",
      "e2dd7d0de6ea47caaa3597839f85c688",
      "3939272cad324e5fa101f114991a9030",
      "ed677702b67442689f1a5c9735813d9d",
      "6c9c013860c848adbb6ed7a336407174",
      "8c69269bceda44e7b7f4bf64df4aed2a",
      "51d87a6a699d45f995e96ea5c9972ade",
      "5f79e708df6e4d78b4092d713a06ae0c",
      "d10c3f227c554c99937aad92aecf2cef",
      "720109dc9a994611a0644358298c11ac",
      "4672171a8d194724887289cfaf7b00b4",
      "dbf01f298f2647c2b8c94dac0d443607",
      "d96f4546fe4f4e42ae3859ba91bc7852",
      "6bc37c8d2a47449c80a00b64f2f17c91",
      "cbcc0ed96d624d0a91a4f589c83e98a4",
      "e12c07f079c640068697b31f50183912",
      "96e0604a869d40b89747ace258e6c7ac",
      "c9d1b3b6183447e98a4ac17ee86a5d51",
      "fa062a3ffca441779f4eb26f77f24a06",
      "36e36f80e10242b5b04d2f2012455ecb",
      "026ce552247c431ebb51158499a5f9e6",
      "bd33fdd10eab4bc99f4716ae8f28ed6b",
      "6c5e3239147c41369ed95c6ee4af5d63",
      "f2fe8dee614847ae8e318e603358463b",
      "ee6ee1b46d6c42c4b93d23b0e771189e",
      "f13dd834aba9428298e8c58a8831e088",
      "97a190c37b774e4fbf56a062bcdb8243",
      "021c8bf1d4fb407c8c3121a3d9c26697",
      "973b3e61d22e4edcbc3811d2c30591e1",
      "7ce73c1865a84bff81b87fc32fb748b7",
      "c60977bfc7954086bd6a0deedfa5c18f",
      "97c3b7ee95854feda0edb1db2ee72d43",
      "6fe11a315ad04527ac8a2267f3a2277e",
      "f67974ca8f914e85a21170a8d65e7666",
      "d195c77972cf4feb9983759d33b2194e",
      "e8f2174070c74b2cb98ca466dee88dce",
      "17313569763a4444902bca0fad651c6c",
      "175e34d33e3342bb9a1ca242effc1718",
      "a09a4c46e4374ca49227a11dca40d058",
      "4e4b2f5f0d984b47896fb033b64330cb",
      "298c8bf38eeb4cf781789cd6e723fe76",
      "514081479f6848c3bcf92d89dd15bb3f",
      "71d2a1ba626c47df924216991fa2cbec",
      "080da9ba4a6b461aafcadff036ea5cfd",
      "4b1e9d93fe224ce6b0b98b026f08caa0",
      "15459c6ec0d5447d9055d8330dff2f0b",
      "ac596d61796a4cedb1a89a34a5169e78",
      "fad5e91327744a27a3f523f47e848a9c",
      "8ff142a84f2b4ac19aa15681ccba3cbc",
      "a7e672cb0a16432f97ed7348cdb228b2",
      "c0214dc9ffd740c8a2744f61d6d599d8",
      "288de0fb16dd470aa425d07e6f552fdf",
      "a284553d71254f0d87a00bee4377e7ab",
      "17f497eab82e4565877517a84087a99e",
      "dae9d4da88cf466ca03433338aeeb01e",
      "0d8ef16a4f334e23ba4d8e427fbe9171",
      "451dd0f60af647ccb5f9bab35af3a026",
      "74f9b81aa56a45469f14f9bbc66bfa76",
      "83920c704aeb4f2f9169bf41aad6fd07",
      "c7bbf26b167346799ec4f552ff12946b",
      "d8453b6651b9431c9ab26b69a506ddbd",
      "344a0432ebea45e2aecf7b2737a13723",
      "223ddb35703d448aae6f6ff5ab2d11aa",
      "5de0e3c67f7744f09d666ba55089b1f1",
      "436608bb99d44abd825be29752fafb98",
      "49b615382f8646b2b80b2658c4f4d8e8",
      "ad3dd17fe4214e9a9bb6dd3ec09729c0",
      "14b555fe2f6244fea3d90c5a256ee9dd",
      "d179b1aa10834d3a8dbf02c6af1ecb1f",
      "4281631ad012422ba9d75104b2f5bf2f",
      "43db02c026ad48adb3c7213850a9593e",
      "81c9fe4498f1460783263afd44c690a1",
      "a2595f2457f5468d8e0abe024053f57b",
      "941a30cffc894741a064cf8fc596af74",
      "5770b0b86d2141c6a33e7a9bfd6e6f3b",
      "45a6d3bb4b6b42208973e4fa68695b50",
      "29060a51d8f14fe1aefa5bd262045422",
      "f4751ebc37a04076af2ac2e0e38f9a4a",
      "cde1d5f69cf74a0eb9e0dc3f5e7955a0",
      "8757c56f1e364142a1d5faf646f0aa34",
      "5a0ddf3a790e4620bbd1c89395e3f945",
      "95fd53e4c7664e3fac8a6ae106ea00e0",
      "f1e7b425f5514c61b49a57aa6cf11891",
      "c953057fe4cb438a924f420983ff2a99",
      "a47ccdf6d1a3446fba112799b77cfd26",
      "9b8b1790a09b49a4a7589f2dbcb81c7d",
      "10dc9b0ce5d64f9a95afe7961d5d9755",
      "b9a2f1258e6c4d13a70d491267b59a15",
      "51f379582ae1416784fb81bc1984ad0f",
      "e9a908ca7d0f46188bee71a9a9924308",
      "15f04d3b1dc34795b5199e40472ae7ec",
      "3ea424c443c54f238c53978407857bf1",
      "76d889953f2c42bd8df9612fc146e287",
      "b0cf77f040a04e498796278a3ee3ce95",
      "82ebc149710344068ca42db2a0ccefe6",
      "b615027f0aa041b993373d4db9f9a546",
      "458b42ee80ca470d96e490ff68559e49",
      "0d201a2e9c6643399e59e2d28ceba573",
      "8b4d78ad8655464db4fa8b100b25ecd7",
      "2d62bccfe9204e6e8bb1649d90ca7d30",
      "ae4afbd4297e4e8490c14adf97a6f1ef",
      "5d511a70821d48d49b686cdd9f27cd3d",
      "7d75eebc7ec645f49acec3274bcec20a",
      "5cfc7f3b7b864fffb49ae32acfb7069a",
      "e80fe6bf165f4fbfb94684cd235a8096",
      "2cfe2a4b9e274c7fbbbb91f05bafc181",
      "0693f031486a4427a6babfd5b833fe75",
      "cc79d447cb154b32b54fcf6efc59c7b9",
      "b6f3c4a84a6d4cfdb1e2909bd72f9525",
      "8c650956a46e42f08de0b685757ce787",
      "c21d6dfcf9a24785b466de17ac886619",
      "d81249fbd2694a3c950b5a9cbb24b289",
      "04a9620072324e25a1ef4859a64c7696",
      "fd9ac4a89e9c43b98f4ac9012b684343",
      "a7d81158af0347d597f9504d2331331c",
      "e6be6d9697eb44f1b5b1f36e5c5a28b0",
      "02c1e0405344413db1fe729adf7b15e9",
      "591ce38f348347eba94ebc0f37ee1a31",
      "e8491440138e42cd89e9cdc672acdb3d",
      "323a9db2e2d14e33965cfcd8d4dcd990",
      "29fc8b51dd67486b91bd6e78f2c75bd1",
      "4b19692dea394066abf8d817882e91f3",
      "05b6ae0d48c64b318050f46420baa639",
      "b96ceacea51948cbacaa962523b0aa2b",
      "5978591fb35e4f518bdba60528d720fc",
      "d6b3af5dd060497692d2f9c2f480c469",
      "3dc53c81c94c4c4880c1d2c4fad7ea37",
      "61617c999d7c4a17adce03108d138f85",
      "ddaa5b69568a4631a4233921aff707f4",
      "d2be0afe878245f5b23631fd434467a5",
      "717662369eff4db688510045b6feaade",
      "7f2eb434b7964016a100234f41e5408e",
      "1ac883d66f794a57a1b1c4c9f7e7c14e",
      "6b46ef5ae1ec434c810ef1b9e331bb51",
      "26068233682b45b8923f0f2504d20eca",
      "bd71119c916449c089177dc27750154d",
      "4f085dc0c2d54333bcbecdbb381be670",
      "a70b03b82f8b49339743ed6701940f8e",
      "012bb534fa254c56a3c244744d7c0469",
      "c1602ffdbc714bceb11325ef9afaab1e",
      "be472ffa184f4e6f81e1c985a109406b",
      "2ad552e1a03a465fb46f4479c9cef788",
      "bf0757ba9d88424a9fdbff7f336a9c22"
     ]
    },
    "id": "ODEAr2q-Oawr",
    "outputId": "9824d7f7-24c2-4843-d759-86dfaa10f2b4"
   },
   "outputs": [],
   "source": [
    "results = train(vit ,\n",
    "                train_dataloader= trainloader,\n",
    "                test_dataloader= testloader,\n",
    "                optimizer= optimizer,\n",
    "                epochs = 10,\n",
    "                loss_fn = loss_fn)"
   ]
  },
  {
   "cell_type": "code",
   "execution_count": null,
   "id": "63",
   "metadata": {
    "colab": {
     "base_uri": "https://localhost:8080/",
     "height": 487
    },
    "id": "skRrQlQ0O0ZB",
    "outputId": "c22b65b2-06ab-4750-a558-2076b9728b15"
   },
   "outputs": [],
   "source": [
    "epochs = range(1, len(results[\"train_loss\"]) + 1)\n",
    "\n",
    "plt.figure(figsize=(12,5))\n",
    "\n",
    "plt.subplot(1,2,1)\n",
    "plt.plot(epochs, results[\"train_loss\"], label=\"Train Loss\")\n",
    "plt.plot(epochs, results[\"test_loss\"], label=\"Test Loss\")\n",
    "plt.xlabel(\"Epochs\")\n",
    "plt.ylabel(\"Loss\")\n",
    "plt.title(\"Loss over Epochs\")\n",
    "plt.legend()\n",
    "\n",
    "plt.subplot(1,2,2)\n",
    "plt.plot(epochs, results[\"train_acc\"], label=\"Train Accuracy\")\n",
    "plt.plot(epochs, results[\"test_acc\"], label=\"Test Accuracy\")\n",
    "plt.xlabel(\"Epochs\")\n",
    "plt.ylabel(\"Accuracy\")\n",
    "plt.title(\"Accuracy over Epochs\")\n",
    "plt.legend()\n",
    "\n",
    "plt.show()\n"
   ]
  },
  {
   "cell_type": "code",
   "execution_count": null,
   "id": "64",
   "metadata": {
    "id": "ZBPseyW6PsVa"
   },
   "outputs": [],
   "source": []
  }
 ],
 "metadata": {
  "accelerator": "GPU",
  "colab": {
   "gpuType": "T4",
   "provenance": []
  },
  "kernelspec": {
   "display_name": "Python 3",
   "name": "python3"
  },
  "language_info": {
   "codemirror_mode": {
    "name": "ipython",
    "version": 3
   },
   "file_extension": ".py",
   "mimetype": "text/x-python",
   "name": "python",
   "nbconvert_exporter": "python",
   "pygments_lexer": "ipython3",
   "version": "3.13.6"
  }
 },
 "nbformat": 4,
 "nbformat_minor": 5
}
